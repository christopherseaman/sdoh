{
 "cells": [
  {
   "cell_type": "markdown",
   "metadata": {},
   "source": [
    "# Exploratory Data Analysis for SDOH Domains using Sweetviz\n",
    "\n",
    "This notebook performs EDA for the domains/items in the domain map with cohorts defined by the 'survey' column in the combined dataset using Sweetviz."
   ]
  },
  {
   "cell_type": "code",
   "execution_count": null,
   "metadata": {},
   "outputs": [],
   "source": [
    "import pandas as pd\n",
    "import sweetviz as sv\n",
    "\n",
    "# Load domain map\n",
    "domain_map = pd.read_csv('reference/domain_map.tsv', sep='\\t')\n",
    "print(\"Domain Map:\")\n",
    "display(domain_map.head())\n",
    "\n",
    "# Load combined data\n",
    "combined_data = pd.read_csv('data/combined.tsv', sep='\\t')\n",
    "print(\"\\nCombined Data:\")\n",
    "display(combined_data.head())\n",
    "\n",
    "# Get unique cohorts\n",
    "cohorts = combined_data['survey'].unique()\n",
    "print(f\"\\nUnique cohorts: {cohorts}\")"
   ]
  },
  {
   "cell_type": "markdown",
   "metadata": {},
   "source": [
    "## 1. Generate Overall Sweetviz Report"
   ]
  },
  {
   "cell_type": "code",
   "execution_count": null,
   "metadata": {},
   "outputs": [],
   "source": [
    "# Generate Sweetviz report for the entire dataset\n",
    "overall_report = sv.analyze(combined_data, pairwise_analysis='off')\n",
    "overall_report.show_html(\"sdoh_sweetviz_report.html\")\n",
    "print(\"Overall Sweetviz report generated and saved as 'sdoh_sweetviz_report.html'\")"
   ]
  },
  {
   "cell_type": "markdown",
   "metadata": {},
   "source": [
    "## 2. Generate Cohort-specific Sweetviz Reports"
   ]
  },
  {
   "cell_type": "code",
   "execution_count": null,
   "metadata": {},
   "outputs": [],
   "source": [
    "for cohort in cohorts:\n",
    "    cohort_data = combined_data[combined_data['survey'] == cohort]\n",
    "    cohort_report = sv.analyze(cohort_data, pairwise_analysis='off')\n",
    "    cohort_report.show_html(f\"{cohort.lower()}_sweetviz_report.html\")\n",
    "    print(f\"Sweetviz report for {cohort} cohort generated and saved as '{cohort.lower()}_sweetviz_report.html'\")"
   ]
  },
  {
   "cell_type": "markdown",
   "metadata": {},
   "source": [
    "## 3. Compare Cohorts using Sweetviz"
   ]
  },
  {
   "cell_type": "code",
   "execution_count": null,
   "metadata": {},
   "outputs": [],
   "source": [
    "# Compare the first two cohorts as an example\n",
    "cohort1 = cohorts[0]\n",
    "cohort2 = cohorts[1]\n",
    "\n",
    "cohort1_data = combined_data[combined_data['survey'] == cohort1]\n",
    "cohort2_data = combined_data[combined_data['survey'] == cohort2]\n",
    "\n",
    "comparison_report = sv.compare([cohort1_data, cohort1], [cohort2_data, cohort2], pairwise_analysis='off')\n",
    "comparison_report.show_html(f\"{cohort1.lower()}_{cohort2.lower()}_comparison_report.html\")\n",
    "print(f\"Comparison report between {cohort1} and {cohort2} generated and saved as '{cohort1.lower()}_{cohort2.lower()}_comparison_report.html'\")"
   ]
  },
  {
   "cell_type": "markdown",
   "metadata": {},
   "source": [
    "## 4. Domain-specific Analysis"
   ]
  },
  {
   "cell_type": "code",
   "execution_count": null,
   "metadata": {},
   "outputs": [],
   "source": [
    "for domain, items in domain_map.groupby('Domain')['Column Name']:\n",
    "    domain_data = combined_data[items.tolist() + ['survey']]\n",
    "    domain_report = sv.analyze(domain_data, pairwise_analysis='off')\n",
    "    domain_report.show_html(f\"{domain.lower().replace(' ', '_')}_sweetviz_report.html\")\n",
    "    print(f\"Sweetviz report for {domain} domain generated and saved as '{domain.lower().replace(' ', '_')}_sweetviz_report.html'\")"
   ]
  },
  {
   "cell_type": "markdown",
   "metadata": {},
   "source": [
    "## 5. Summary and Conclusions"
   ]
  },
  {
   "cell_type": "markdown",
   "metadata": {},
   "source": [
    "Based on the Sweetviz reports generated above, we can draw the following conclusions:\n",
    "\n",
    "1. [Add your conclusions here based on the Sweetviz report results]\n",
    "2. [Highlight key findings and differences between cohorts]\n",
    "3. [Discuss any patterns or trends observed in the data]\n",
    "4. [Suggest areas for further investigation or analysis]\n",
    "\n",
    "For detailed insights, please refer to the generated HTML reports:\n",
    "- Overall Sweetviz report: 'sdoh_sweetviz_report.html'\n",
    "- Cohort-specific reports: '[cohort_name]_sweetviz_report.html'\n",
    "- Cohort comparison report: '[cohort1]_[cohort2]_comparison_report.html'\n",
    "- Domain-specific reports: '[domain_name]_sweetviz_report.html'"
   ]
  }
 ],
 "metadata": {
  "kernelspec": {
   "display_name": "Python 3",
   "language": "python",
   "name": "python3"
  },
  "language_info": {
   "codemirror_mode": {
    "name": "ipython",
    "version": 3
   },
   "file_extension": ".py",
   "mimetype": "text/x-python",
   "name": "python",
   "nbconvert_exporter": "python",
   "pygments_lexer": "ipython3",
   "version": "3.8.5"
  }
 },
 "nbformat": 4,
 "nbformat_minor": 4
}
