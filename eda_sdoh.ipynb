{
 "cells": [
  {
   "cell_type": "markdown",
   "metadata": {},
   "source": [
    "# Exploratory Data Analysis for SDOH Domains\n",
    "\n",
    "This notebook performs EDA for the domains/items in the domain map with cohorts defined by the 'survey' column in the combined dataset."
   ]
  },
  {
   "cell_type": "code",
   "execution_count": 1,
   "metadata": {},
   "outputs": [
    {
     "ename": "ModuleNotFoundError",
     "evalue": "No module named 'ydata_profiling'",
     "output_type": "error",
     "traceback": [
      "\u001b[0;31m---------------------------------------------------------------------------\u001b[0m",
      "\u001b[0;31mModuleNotFoundError\u001b[0m                       Traceback (most recent call last)",
      "Cell \u001b[0;32mIn[1], line 3\u001b[0m\n\u001b[1;32m      1\u001b[0m \u001b[38;5;28;01mimport\u001b[39;00m \u001b[38;5;21;01mpandas\u001b[39;00m \u001b[38;5;28;01mas\u001b[39;00m \u001b[38;5;21;01mpd\u001b[39;00m\n\u001b[1;32m      2\u001b[0m \u001b[38;5;28;01mimport\u001b[39;00m \u001b[38;5;21;01mseaborn\u001b[39;00m \u001b[38;5;28;01mas\u001b[39;00m \u001b[38;5;21;01msns\u001b[39;00m\n\u001b[0;32m----> 3\u001b[0m \u001b[38;5;28;01mfrom\u001b[39;00m \u001b[38;5;21;01mydata_profiling\u001b[39;00m \u001b[38;5;28;01mimport\u001b[39;00m ProfileReport\n\u001b[1;32m      4\u001b[0m \u001b[38;5;28;01mimport\u001b[39;00m \u001b[38;5;21;01mmatplotlib\u001b[39;00m\u001b[38;5;21;01m.\u001b[39;00m\u001b[38;5;21;01mpyplot\u001b[39;00m \u001b[38;5;28;01mas\u001b[39;00m \u001b[38;5;21;01mplt\u001b[39;00m\n\u001b[1;32m      6\u001b[0m \u001b[38;5;66;03m# Set style for plots\u001b[39;00m\n",
      "\u001b[0;31mModuleNotFoundError\u001b[0m: No module named 'ydata_profiling'"
     ]
    }
   ],
   "source": [
    "import pandas as pd\n",
    "import seaborn as sns\n",
    "from ydata_profiling import ProfileReport\n",
    "import matplotlib.pyplot as plt\n",
    "\n",
    "# Set style for plots\n",
    "sns.set_theme(style=\"whitegrid\")\n",
    "plt.rcParams['figure.figsize'] = [12, 8]"
   ]
  },
  {
   "cell_type": "markdown",
   "metadata": {},
   "source": [
    "## 1. Load and Preprocess Data"
   ]
  },
  {
   "cell_type": "code",
   "execution_count": null,
   "metadata": {},
   "outputs": [],
   "source": [
    "# Load domain map\n",
    "domain_map = pd.read_csv('reference/domain_map.tsv', sep='\\t')\n",
    "print(\"Domain Map:\")\n",
    "display(domain_map.head())\n",
    "\n",
    "# Load combined data\n",
    "combined_data = pd.read_csv('data/combined.tsv', sep='\\t')\n",
    "print(\"\\nCombined Data:\")\n",
    "display(combined_data.head())\n",
    "\n",
    "# Get unique cohorts\n",
    "cohorts = combined_data['survey'].unique()\n",
    "print(f\"\\nUnique cohorts: {cohorts}\")"
   ]
  },
  {
   "cell_type": "markdown",
   "metadata": {},
   "source": [
    "## 2. Generate Overall Profile Report"
   ]
  },
  {
   "cell_type": "code",
   "execution_count": null,
   "metadata": {},
   "outputs": [],
   "source": [
    "# Generate profile report for the entire dataset\n",
    "profile = ProfileReport(combined_data, title=\"SDOH Data Profiling Report\", explorative=True)\n",
    "profile.to_file(\"sdoh_profile_report.html\")\n",
    "print(\"Overall profile report generated and saved as 'sdoh_profile_report.html'\")"
   ]
  },
  {
   "cell_type": "markdown",
   "metadata": {},
   "source": [
    "## 3. EDA by Domain Across Cohorts"
   ]
  },
  {
   "cell_type": "code",
   "execution_count": null,
   "metadata": {},
   "outputs": [],
   "source": [
    "def analyze_domain(domain, items):\n",
    "    print(f\"\\n--- Analysis for {domain} ---\")\n",
    "    \n",
    "    for item in items:\n",
    "        if item in combined_data.columns:\n",
    "            print(f\"\\nItem: {item}\")\n",
    "            \n",
    "            # Distribution plot\n",
    "            sns.displot(data=combined_data, x=item, hue='survey', kde=True)\n",
    "            plt.title(f'Distribution of {item} by Cohort')\n",
    "            plt.show()\n",
    "            \n",
    "            # Box plot\n",
    "            sns.boxplot(data=combined_data, x='survey', y=item)\n",
    "            plt.title(f'Box Plot of {item} by Cohort')\n",
    "            plt.xticks(rotation=45)\n",
    "            plt.show()\n",
    "        else:\n",
    "            print(f\"Column {item} not found in the dataset.\")\n",
    "\n",
    "# Analyze each domain\n",
    "for domain, items in domain_map.groupby('Domain')['Column Name']:\n",
    "    analyze_domain(domain, items)"
   ]
  },
  {
   "cell_type": "markdown",
   "metadata": {},
   "source": [
    "## 4. EDA Within Each Cohort"
   ]
  },
  {
   "cell_type": "code",
   "execution_count": null,
   "metadata": {},
   "outputs": [],
   "source": [
    "def analyze_cohort(cohort_data, cohort_name):\n",
    "    print(f\"\\n=== Analysis for {cohort_name} Cohort ===\")\n",
    "    \n",
    "    # Generate profile report for the cohort\n",
    "    cohort_profile = ProfileReport(cohort_data, title=f\"{cohort_name} Cohort Profiling Report\", explorative=True)\n",
    "    cohort_profile.to_file(f\"{cohort_name.lower()}_profile_report.html\")\n",
    "    print(f\"Profile report for {cohort_name} cohort generated and saved as '{cohort_name.lower()}_profile_report.html'\")\n",
    "\n",
    "# Analyze each cohort\n",
    "for cohort in cohorts:\n",
    "    cohort_data = combined_data[combined_data['survey'] == cohort]\n",
    "    analyze_cohort(cohort_data, cohort)"
   ]
  },
  {
   "cell_type": "markdown",
   "metadata": {},
   "source": [
    "## 5. Highlight Differences Between Cohorts"
   ]
  },
  {
   "cell_type": "code",
   "execution_count": null,
   "metadata": {},
   "outputs": [],
   "source": [
    "def highlight_differences():\n",
    "    print(\"\\n=== Highlighting Differences Between Cohorts ===\")\n",
    "    \n",
    "    for domain, items in domain_map.groupby('Domain')['Column Name']:\n",
    "        print(f\"\\n--- {domain} ---\")\n",
    "        \n",
    "        for item in items:\n",
    "            if item in combined_data.columns:\n",
    "                print(f\"\\nItem: {item}\")\n",
    "                \n",
    "                # ANOVA test\n",
    "                from scipy import stats\n",
    "                groups = [group for _, group in combined_data.groupby('survey')[item]]\n",
    "                f_value, p_value = stats.f_oneway(*groups)\n",
    "                print(f\"ANOVA test - F-value: {f_value:.4f}, p-value: {p_value:.4f}\")\n",
    "                \n",
    "                if p_value < 0.05:\n",
    "                    print(\"There is a significant difference between cohorts.\")\n",
    "                    \n",
    "                    # Pairwise comparisons\n",
    "                    from statsmodels.stats.multicomp import pairwise_tukeyhsd\n",
    "                    tukey_results = pairwise_tukeyhsd(combined_data[item], combined_data['survey'])\n",
    "                    print(\"\\nTukey's test results:\")\n",
    "                    print(tukey_results)\n",
    "                    \n",
    "                    # Visualize differences\n",
    "                    sns.boxplot(x='survey', y=item, data=combined_data)\n",
    "                    plt.title(f'Differences in {item} Across Cohorts')\n",
    "                    plt.xticks(rotation=45)\n",
    "                    plt.show()\n",
    "                else:\n",
    "                    print(\"No significant difference between cohorts.\")\n",
    "            else:\n",
    "                print(f\"Column {item} not found in the dataset.\")\n",
    "\n",
    "highlight_differences()"
   ]
  },
  {
   "cell_type": "markdown",
   "metadata": {},
   "source": [
    "## 6. Summary and Conclusions"
   ]
  },
  {
   "cell_type": "markdown",
   "metadata": {},
   "source": [
    "Based on the analysis above, we can draw the following conclusions:\n",
    "\n",
    "1. [Add your conclusions here based on the EDA results]\n",
    "2. [Highlight key findings and differences between cohorts]\n",
    "3. [Discuss any patterns or trends observed in the data]\n",
    "4. [Suggest areas for further investigation or analysis]\n",
    "\n",
    "For detailed insights, please refer to the generated HTML reports:\n",
    "- Overall profile report: 'sdoh_profile_report.html'\n",
    "- Cohort-specific reports: '[cohort_name]_profile_report.html'"
   ]
  }
 ],
 "metadata": {
  "kernelspec": {
   "display_name": ".venv",
   "language": "python",
   "name": "python3"
  },
  "language_info": {
   "codemirror_mode": {
    "name": "ipython",
    "version": 3
   },
   "file_extension": ".py",
   "mimetype": "text/x-python",
   "name": "python",
   "nbconvert_exporter": "python",
   "pygments_lexer": "ipython3",
   "version": "3.12.1"
  }
 },
 "nbformat": 4,
 "nbformat_minor": 4
}
