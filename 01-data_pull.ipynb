{
 "cells": [
  {
   "cell_type": "code",
   "execution_count": 1,
   "metadata": {},
   "outputs": [],
   "source": [
    "from dotenv import load_dotenv\n",
    "from notebook_check import in_notebook\n",
    "import os\n",
    "from redcap import Project\n",
    "import pandas as pd\n",
    "\n",
    "# Constants\n",
    "JUPYTER = in_notebook()\n",
    "DEBUG = False\n",
    "DATA = 'data'\n",
    "os.makedirs(DATA, exist_ok=True)\n",
    "\n",
    "# Load environment variables\n",
    "load_dotenv('dot.env')\n",
    "token = eval(os.getenv('API_TOKEN'))\n",
    "api_url = os.getenv('API_URL')"
   ]
  },
  {
   "cell_type": "code",
   "execution_count": null,
   "metadata": {},
   "outputs": [],
   "source": [
    "# data['key'] = DataFrame\n",
    "data = {}\n",
    "\n",
    "# Check is csv's exist, if not then download from REDCap\n",
    "for key in token:\n",
    "    if os.path.exists(f\"{DATA}/{key}.tsv\"):\n",
    "        data[key] = pd.read_csv(f\"{DATA}/{key}.tsv\")\n",
    "        print(f\"Loaded: {key}.tsv\")\n",
    "    else:\n",
    "        try:\n",
    "            api_key = token[key]\n",
    "            project = Project(api_url, api_key)\n",
    "            data[key] = pd.DataFrame(project.export_records())\n",
    "            data[key].to_csv(f\"{DATA}/{key}.tsv\", index=False, sep='\\t')\n",
    "            print(f\"Saved : {key}.tsv\")\n",
    "        except Exception as e:\n",
    "            print(f\"Error : {e}\")"
   ]
  },
  {
   "cell_type": "code",
   "execution_count": 3,
   "metadata": {},
   "outputs": [],
   "source": [
    "if DEBUG:\n",
    "    for key in data:\n",
    "        display(data[key].head()) if JUPYTER else print(data[key])\n"
   ]
  },
  {
   "cell_type": "code",
   "execution_count": null,
   "metadata": {},
   "outputs": [],
   "source": [
    "# Check if dataframes have the same columns\n",
    "\n",
    "def check_columns(data):\n",
    "    columns = None\n",
    "    for key in data:\n",
    "        if columns is None:\n",
    "            columns = set(data[key].columns)\n",
    "        else:\n",
    "            if columns != set(data[key].columns):\n",
    "                return False\n",
    "    return True\n",
    "\n",
    "if check_columns(data):\n",
    "    print(\"All dataframes have the same columns\")\n",
    "else:\n",
    "    # Find the columns that are different\n",
    "    columns = None\n",
    "    for key in data:\n",
    "        if columns is None:\n",
    "            columns = set(data[key].columns)\n",
    "        else:\n",
    "            columns = columns.intersection(set(data[key].columns))\n",
    "    print(\"Columns that are different:\")\n",
    "    for key in data:\n",
    "        print(f\"{key}: {set(data[key].columns) - columns}\")\n",
    "\n",
    "# Columns that are different:\n",
    "# chinese_traditional: {'mac_sdoh_questionnaire_traditional_chinese_complete', 'msoc_bas_46'}\n",
    "# chinese_simplified: {'mac_sdoh_questionnaire_chinese_complete', 'msoc_bas_46'}\n",
    "# english: {'mac_sdoh_questionnaire_english_complete', 'msoc_bas_46'}\n",
    "# spanish: {'msoc_bas_45', 'mac_sdoh_questionnaire_spanish_complete'}"
   ]
  },
  {
   "cell_type": "code",
   "execution_count": 5,
   "metadata": {},
   "outputs": [],
   "source": [
    "data['english'].head().to_csv('reference/english_head.csv', index=False)"
   ]
  },
  {
   "cell_type": "code",
   "execution_count": null,
   "metadata": {},
   "outputs": [],
   "source": []
  }
 ],
 "metadata": {
  "kernelspec": {
   "display_name": ".venv",
   "language": "python",
   "name": "python3"
  },
  "language_info": {
   "codemirror_mode": {
    "name": "ipython",
    "version": 3
   },
   "file_extension": ".py",
   "mimetype": "text/x-python",
   "name": "python",
   "nbconvert_exporter": "python",
   "pygments_lexer": "ipython3",
   "version": "3.12.7"
  }
 },
 "nbformat": 4,
 "nbformat_minor": 2
}
