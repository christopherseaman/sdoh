{
 "cells": [
  {
   "cell_type": "code",
   "execution_count": 2,
   "metadata": {},
   "outputs": [
    {
     "name": "stdout",
     "output_type": "stream",
     "text": [
      "Data loaded successfully.\n",
      "Combined data shape: (521, 923)\n",
      "Number of domains: 10\n"
     ]
    }
   ],
   "source": [
    "import pandas as pd\n",
    "import matplotlib.pyplot as plt\n",
    "import seaborn as sns\n",
    "import numpy as np\n",
    "from IPython.display import display\n",
    "from utils import load_data\n",
    "import ydata_profiling\n",
    "\n",
    "# Load the data\n",
    "combined, data_dictionary = load_data()\n",
    "\n",
    "# Load domain map\n",
    "domain_map = pd.read_csv('reference/domain_map.tsv', sep='\\t')\n",
    "\n",
    "print(\"Data loaded successfully.\")\n",
    "print(f\"Combined data shape: {combined.shape}\")\n",
    "print(f\"Number of domains: {domain_map['domain'].nunique()}\")"
   ]
  },
  {
   "cell_type": "code",
   "execution_count": 3,
   "metadata": {},
   "outputs": [],
   "source": [
    "# # Recode?\n",
    "\n",
    "# msoc_1arevyears = 0 -> lack_of_maternal_figure = True, else False\n",
    "# msoc_4arevyears = 0 -> lack_of_paternal_figure = True, else False\n",
    "# Recode msoc_1arevyears and msoc_4arevyears to boolean derived_lack_maternal and derived_lack_paternal\n",
    "temp = pd.DataFrame()\n",
    "temp['derived_lack_paternal'] = combined['msoc_1arevyears'] == 0\n",
    "temp['derived_lack_maternal'] = combined['msoc_4arevyears'] == 0\n",
    "combined = pd.concat([combined, temp], axis=1)"
   ]
  },
  {
   "cell_type": "code",
   "execution_count": 4,
   "metadata": {},
   "outputs": [
    {
     "data": {
      "text/plain": [
       "survey\n",
       "english    287\n",
       "chinese    131\n",
       "spanish    103\n",
       "Name: count, dtype: int64"
      ]
     },
     "execution_count": 4,
     "metadata": {},
     "output_type": "execute_result"
    }
   ],
   "source": [
    "combined['survey'].value_counts()"
   ]
  },
  {
   "cell_type": "code",
   "execution_count": null,
   "metadata": {},
   "outputs": [],
   "source": []
  }
 ],
 "metadata": {
  "kernelspec": {
   "display_name": ".venv",
   "language": "python",
   "name": "python3"
  },
  "language_info": {
   "codemirror_mode": {
    "name": "ipython",
    "version": 3
   },
   "file_extension": ".py",
   "mimetype": "text/x-python",
   "name": "python",
   "nbconvert_exporter": "python",
   "pygments_lexer": "ipython3",
   "version": "3.12.7"
  }
 },
 "nbformat": 4,
 "nbformat_minor": 2
}
