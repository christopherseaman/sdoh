{
 "cells": [
  {
   "cell_type": "code",
   "execution_count": null,
   "metadata": {},
   "outputs": [],
   "source": [
    "import pandas as pd\n",
    "import matplotlib.pyplot as plt\n",
    "import seaborn as sns\n",
    "import numpy as np\n",
    "from IPython.display import display\n",
    "\n",
    "# Load the data\n",
    "data = {}\n",
    "for key in ['chinese_traditional', 'chinese_simplified', 'english', 'spanish']:\n",
    "    data[key] = pd.read_csv(f\"data/{key}.tsv\", sep='\\t')\n",
    "\n",
    "# Combine the dataframes\n",
    "combined = pd.concat(data.values(), ignore_index=True)\n",
    "\n",
    "# Load domain map\n",
    "domain_map = pd.read_csv('reference/domain_map.tsv', sep='\\t')\n",
    "\n",
    "print(\"Data loaded successfully.\")\n",
    "print(f\"Combined data shape: {combined.shape}\")\n",
    "print(f\"Number of domains: {domain_map['Domain'].nunique()}\")"
   ]
  },
  {
   "cell_type": "code",
   "execution_count": null,
   "metadata": {},
   "outputs": [],
   "source": []
  }
 ],
 "metadata": {
  "kernelspec": {
   "display_name": ".venv",
   "language": "python",
   "name": "python3"
  },
  "language_info": {
   "name": "python",
   "version": "3.12.3"
  }
 },
 "nbformat": 4,
 "nbformat_minor": 2
}
